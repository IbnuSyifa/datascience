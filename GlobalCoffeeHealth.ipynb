{
 "cells": [
  {
   "cell_type": "code",
   "execution_count": 1,
   "id": "b0f9da46",
   "metadata": {},
   "outputs": [
    {
     "ename": "SyntaxError",
     "evalue": "invalid syntax (3998214779.py, line 1)",
     "output_type": "error",
     "traceback": [
      "  \u001b[36mCell\u001b[39m\u001b[36m \u001b[39m\u001b[32mIn[1]\u001b[39m\u001b[32m, line 1\u001b[39m\n\u001b[31m    \u001b[39m\u001b[31mpip install kagglehub pandas seaborn matplotlib scipy\u001b[39m\n        ^\n\u001b[31mSyntaxError\u001b[39m\u001b[31m:\u001b[39m invalid syntax\n"
     ]
    }
   ],
   "source": [
    "pip install kagglehub pandas seaborn matplotlib scipy\n",
    "\n",
    "import kagglehub\n",
    "import pandas as pd\n",
    "import seaborn as sns\n",
    "import matplotlib.pyplot as plt\n",
    "import os\n",
    "from scipy import stats\n",
    "\n",
    "# Tentukan direktori untuk mengunduh\n",
    "download_dir = 'dataset'\n",
    "\n",
    "# Unduh file dataset dari Kaggle Hub\n",
    "# Ini akan mengunduh ke folder 'dataset' dan mengembalikan path ke folder tersebut\n",
    "print(\"Mengunduh dataset dari Kaggle Hub...\")\n",
    "download_path = kagglehub.dataset_download_files(\n",
    "    'uom190346a/global-coffee-health-dataset',\n",
    "    path=download_dir\n",
    ")\n",
    "\n",
    "# Tentukan path file lengkap\n",
    "file_name = 'synthetic_coffee_health_10000.csv'\n",
    "file_path = os.path.join(download_dir, file_name)\n",
    "\n",
    "# Periksa apakah file ada\n",
    "if os.path.exists(file_path):\n",
    "    print(f\"File ditemukan di: {file_path}\")\n",
    "    # Muat data ke DataFrame\n",
    "    df = pd.read_csv(file_path)\n",
    "    print(\"Data berhasil dimuat.\")\n",
    "else:\n",
    "    print(f\"Error: File {file_name} tidak ditemukan di {download_dir}\")\n",
    "    # Jika gagal, coba cari di sub-direktori (kadang-kadang Kaggle membungkusnya)\n",
    "    possible_path = os.path.join(download_dir, 'global-coffee-health-dataset', file_name)\n",
    "    if os.path.exists(possible_path):\n",
    "        file_path = possible_path\n",
    "        df = pd.read_csv(file_path)\n",
    "        print(\"Data berhasil dimuat dari sub-direktori.\")\n",
    "    else:\n",
    "        print(\"Gagal menemukan file dataset. Periksa struktur unduhan.\")\n",
    "\n",
    "if 'df' in locals():\n",
    "    display(df.head())"
   ]
  }
 ],
 "metadata": {
  "kernelspec": {
   "display_name": "Python 3",
   "language": "python",
   "name": "python3"
  },
  "language_info": {
   "codemirror_mode": {
    "name": "ipython",
    "version": 3
   },
   "file_extension": ".py",
   "mimetype": "text/x-python",
   "name": "python",
   "nbconvert_exporter": "python",
   "pygments_lexer": "ipython3",
   "version": "3.13.2"
  }
 },
 "nbformat": 4,
 "nbformat_minor": 5
}
